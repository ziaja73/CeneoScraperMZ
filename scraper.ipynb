{
 "cells": [
  {
   "cell_type": "markdown",
   "metadata": {},
   "source": [
    "# Ceneo Scraper"
   ]
  },
  {
   "cell_type": "markdown",
   "metadata": {},
   "source": [
    "## Struktura opinii w serwisie Ceneo.pl\n",
    "\n",
    "|składowa|zmienna|selektor|\n",
    "|--------|-------|--------|\n",
    "|identyfikator|opinion_id|[\"data-entry-id\"]|\n",
    "|autora|author|span.user-post__author-name|\n",
    "|rekomendację|recomendation|span.user-post__author-recomendation > em|\n",
    "|liczbę gwiazdek|rating|span.user-post__score-count|\n",
    "|data wystawienia opinii|opinion_date|span.user-post__published > time:nth-child(1)[\"datetime\"]|\n",
    "|data zakupu produktu|purchase_date|span.user-post__published > time:nth-child(2)[\"datetime\"]|\n",
    "|ile osób uznało opinię za przydatną|likes|button.vote-yes > span|\n",
    "|ile osób uznało opinię za nieprzydatną|dislikes|buton.vote-no > span|\n",
    "|treść opinii|content|div.user-post__text|\n",
    "|listę wad|cons|div.review-feature__title--negatives ~ review-feature__item|\n",
    "|listę zalet|pros|div.review-feature__title--positives ~ review-feature__item|"
   ]
  },
  {
   "cell_type": "code",
   "execution_count": 8,
   "metadata": {},
   "outputs": [],
   "source": [
    "selectors = {\n",
    "    'author': (\"span.user-post__author-name\",),\n",
    "    'recomendation': (\"span.user-post__author-recomendation > em\",),\n",
    "    'rating': (\"span.user-post__score-count\",),\n",
    "    'content': (\"div.user-post__text\",),\n",
    "    'pros': (\"div.review-feature__title--positives ~ review-feature__item\", None, True),\n",
    "    'cons': (\"div.review-feature__title--negatives ~ review-feature__item\", None, True),\n",
    "    'opinion_date': (\"span.user-post__published > time:nth-child(1)\",\"datetime\"),\n",
    "    'purchase_date': (\"span.user-post__published > time:nth-child(2)\",\"datetime\"),\n",
    "    'likes': (\"button.vote-yes > span\",),\n",
    "    'dislikes': (\"button.vote-no > span\",),\n",
    "    'opinion_id': [None, \"data-entry-id\"],\n",
    "}"
   ]
  },
  {
   "cell_type": "markdown",
   "metadata": {},
   "source": [
    "1. Import bibliotek"
   ]
  },
  {
   "cell_type": "code",
   "execution_count": 9,
   "metadata": {},
   "outputs": [],
   "source": [
    "import os\n",
    "import json\n",
    "import requests\n",
    "from bs4 import BeautifulSoup"
   ]
  },
  {
   "cell_type": "markdown",
   "metadata": {},
   "source": [
    "Funckja do ekstracji zawartości ze strony HTML"
   ]
  },
  {
   "cell_type": "code",
   "execution_count": 10,
   "metadata": {},
   "outputs": [],
   "source": [
    "def extract(ancestor, selector, attribute = None, return_list = False):\n",
    "    if return_list:\n",
    "        if attribute:\n",
    "            return [tag[attribute].strip() for tag in ancestor.select(selector)]\n",
    "        return [tag.get_text().strip() for tag in ancestor.select(selector)]\n",
    "    if selector:\n",
    "        if attribute:\n",
    "            try:\n",
    "                return ancestor.select_one(selector)[attribute].strip()\n",
    "            except TypeError:\n",
    "                return None\n",
    "        try:\n",
    "            return ancestor.select_one(selector).get_text().strip()\n",
    "        except AttributeError:\n",
    "            return None\n",
    "    if attribute:\n",
    "        return ancestor[attribute].strip()\n",
    "    return ancestor.get_text().strip()"
   ]
  },
  {
   "cell_type": "markdown",
   "metadata": {},
   "source": [
    "2. Strona produktu"
   ]
  },
  {
   "cell_type": "code",
   "execution_count": 11,
   "metadata": {},
   "outputs": [],
   "source": [
    "produkt_id = \"84514582\"\n",
    "produkt_id = input(\"Podaj kod produktu z Cenneo.pl\")\n",
    "url = f\"https://www.ceneo.pl/{produkt_id}#tab=reviews\""
   ]
  },
  {
   "cell_type": "markdown",
   "metadata": {},
   "source": [
    "5. Pobranie składowych pojedynczej opini"
   ]
  },
  {
   "cell_type": "code",
   "execution_count": 12,
   "metadata": {},
   "outputs": [],
   "source": [
    "all_opinions = []\n",
    "while(url): \n",
    "    response = requests.get(url)\n",
    "    page = BeautifulSoup(response.text, \"html.parser\")\n",
    "    opinions = page.select(\"div.js_product-review\")\n",
    "    for opinion in opinions:\n",
    "        single_opinion = {\n",
    "            key: extract(opinion, *value)\n",
    "                for key, value in selectors.items()\n",
    "        }\n",
    "        all_opinions.append(single_opinion)\n",
    "    try:\n",
    "        url = \"https://www.ceneo.pl\" + extract(page, \"a.pagination_next\", \"href\")\n",
    "    except TypeError:\n",
    "        url = None"
   ]
  },
  {
   "cell_type": "code",
   "execution_count": 14,
   "metadata": {},
   "outputs": [],
   "source": [
    "if not os.path.exists(\"opinios\"):\n",
    "    os.mkdir(\"opinions\")\n",
    "with open(f\"opinions/{produkt_id}.json\", \"w\", encoding=\"UTF-8\") as jf:\n",
    "    json.dump(all_opinions, jf, indent=4, ensure_ascii=False)"
   ]
  }
 ],
 "metadata": {
  "kernelspec": {
   "display_name": ".venv",
   "language": "python",
   "name": "python3"
  },
  "language_info": {
   "codemirror_mode": {
    "name": "ipython",
    "version": 3
   },
   "file_extension": ".py",
   "mimetype": "text/x-python",
   "name": "python",
   "nbconvert_exporter": "python",
   "pygments_lexer": "ipython3",
   "version": "3.11.4"
  }
 },
 "nbformat": 4,
 "nbformat_minor": 2
}
